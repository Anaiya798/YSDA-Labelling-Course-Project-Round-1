{
 "cells": [
  {
   "cell_type": "code",
   "execution_count": 1,
   "id": "1dd75124",
   "metadata": {},
   "outputs": [],
   "source": [
    "%matplotlib inline\n",
    "%config InlineBackend.figure_format = 'retina'\n",
    "\n",
    "import matplotlib.pyplot as plt\n",
    "from pandas.core.common import flatten\n",
    "import copy\n",
    "import numpy as np\n",
    "import random\n",
    "\n",
    "import torch\n",
    "from torch import nn\n",
    "from torch import optim\n",
    "import torch.nn.functional as F\n",
    "from torchvision import datasets, transforms, models\n",
    "from torch.utils.data import Dataset, DataLoader\n",
    "\n",
    "# import albumentations as A\n",
    "# from albumentations.pytorch import ToTensorV2\n",
    "import cv2\n",
    "import pandas as pd\n",
    "\n",
    "import glob\n",
    "from tqdm import tqdm"
   ]
  },
  {
   "cell_type": "markdown",
   "id": "ab133f8d",
   "metadata": {},
   "source": [
    "# Make train/val"
   ]
  },
  {
   "cell_type": "code",
   "execution_count": 24,
   "id": "d5d6d337",
   "metadata": {},
   "outputs": [],
   "source": [
    "val_contest = pd.DataFrame(np.zeros(2638, dtype=int), columns=['label'])"
   ]
  },
  {
   "cell_type": "code",
   "execution_count": 30,
   "id": "e6efaa38",
   "metadata": {},
   "outputs": [],
   "source": [
    "img_paths = [f'val/{i}.png' for i in range(2638)]\n",
    "val_contest['img_path'] = img_paths"
   ]
  },
  {
   "cell_type": "code",
   "execution_count": 31,
   "id": "9e6fe0e6",
   "metadata": {},
   "outputs": [
    {
     "data": {
      "text/html": [
       "<div>\n",
       "<style scoped>\n",
       "    .dataframe tbody tr th:only-of-type {\n",
       "        vertical-align: middle;\n",
       "    }\n",
       "\n",
       "    .dataframe tbody tr th {\n",
       "        vertical-align: top;\n",
       "    }\n",
       "\n",
       "    .dataframe thead th {\n",
       "        text-align: right;\n",
       "    }\n",
       "</style>\n",
       "<table border=\"1\" class=\"dataframe\">\n",
       "  <thead>\n",
       "    <tr style=\"text-align: right;\">\n",
       "      <th></th>\n",
       "      <th>label</th>\n",
       "      <th>img_path</th>\n",
       "    </tr>\n",
       "  </thead>\n",
       "  <tbody>\n",
       "    <tr>\n",
       "      <th>0</th>\n",
       "      <td>0</td>\n",
       "      <td>val/0.png</td>\n",
       "    </tr>\n",
       "    <tr>\n",
       "      <th>1</th>\n",
       "      <td>0</td>\n",
       "      <td>val/1.png</td>\n",
       "    </tr>\n",
       "    <tr>\n",
       "      <th>2</th>\n",
       "      <td>0</td>\n",
       "      <td>val/2.png</td>\n",
       "    </tr>\n",
       "    <tr>\n",
       "      <th>3</th>\n",
       "      <td>0</td>\n",
       "      <td>val/3.png</td>\n",
       "    </tr>\n",
       "    <tr>\n",
       "      <th>4</th>\n",
       "      <td>0</td>\n",
       "      <td>val/4.png</td>\n",
       "    </tr>\n",
       "    <tr>\n",
       "      <th>...</th>\n",
       "      <td>...</td>\n",
       "      <td>...</td>\n",
       "    </tr>\n",
       "    <tr>\n",
       "      <th>2633</th>\n",
       "      <td>0</td>\n",
       "      <td>val/2633.png</td>\n",
       "    </tr>\n",
       "    <tr>\n",
       "      <th>2634</th>\n",
       "      <td>0</td>\n",
       "      <td>val/2634.png</td>\n",
       "    </tr>\n",
       "    <tr>\n",
       "      <th>2635</th>\n",
       "      <td>0</td>\n",
       "      <td>val/2635.png</td>\n",
       "    </tr>\n",
       "    <tr>\n",
       "      <th>2636</th>\n",
       "      <td>0</td>\n",
       "      <td>val/2636.png</td>\n",
       "    </tr>\n",
       "    <tr>\n",
       "      <th>2637</th>\n",
       "      <td>0</td>\n",
       "      <td>val/2637.png</td>\n",
       "    </tr>\n",
       "  </tbody>\n",
       "</table>\n",
       "<p>2638 rows × 2 columns</p>\n",
       "</div>"
      ],
      "text/plain": [
       "      label      img_path\n",
       "0         0     val/0.png\n",
       "1         0     val/1.png\n",
       "2         0     val/2.png\n",
       "3         0     val/3.png\n",
       "4         0     val/4.png\n",
       "...     ...           ...\n",
       "2633      0  val/2633.png\n",
       "2634      0  val/2634.png\n",
       "2635      0  val/2635.png\n",
       "2636      0  val/2636.png\n",
       "2637      0  val/2637.png\n",
       "\n",
       "[2638 rows x 2 columns]"
      ]
     },
     "execution_count": 31,
     "metadata": {},
     "output_type": "execute_result"
    }
   ],
   "source": [
    "val_contest"
   ]
  },
  {
   "cell_type": "code",
   "execution_count": 43,
   "id": "96e81ba6",
   "metadata": {},
   "outputs": [],
   "source": [
    "columns_titles = [\"img_path\", \"label\"]\n",
    "val_contest = val_contest.reindex(columns=columns_titles)"
   ]
  },
  {
   "cell_type": "code",
   "execution_count": 44,
   "id": "3ed457ba",
   "metadata": {},
   "outputs": [
    {
     "data": {
      "text/html": [
       "<div>\n",
       "<style scoped>\n",
       "    .dataframe tbody tr th:only-of-type {\n",
       "        vertical-align: middle;\n",
       "    }\n",
       "\n",
       "    .dataframe tbody tr th {\n",
       "        vertical-align: top;\n",
       "    }\n",
       "\n",
       "    .dataframe thead th {\n",
       "        text-align: right;\n",
       "    }\n",
       "</style>\n",
       "<table border=\"1\" class=\"dataframe\">\n",
       "  <thead>\n",
       "    <tr style=\"text-align: right;\">\n",
       "      <th></th>\n",
       "      <th>img_path</th>\n",
       "      <th>label</th>\n",
       "    </tr>\n",
       "  </thead>\n",
       "  <tbody>\n",
       "    <tr>\n",
       "      <th>0</th>\n",
       "      <td>val/0.png</td>\n",
       "      <td>0</td>\n",
       "    </tr>\n",
       "    <tr>\n",
       "      <th>1</th>\n",
       "      <td>val/1.png</td>\n",
       "      <td>0</td>\n",
       "    </tr>\n",
       "    <tr>\n",
       "      <th>2</th>\n",
       "      <td>val/2.png</td>\n",
       "      <td>0</td>\n",
       "    </tr>\n",
       "    <tr>\n",
       "      <th>3</th>\n",
       "      <td>val/3.png</td>\n",
       "      <td>0</td>\n",
       "    </tr>\n",
       "    <tr>\n",
       "      <th>4</th>\n",
       "      <td>val/4.png</td>\n",
       "      <td>0</td>\n",
       "    </tr>\n",
       "    <tr>\n",
       "      <th>...</th>\n",
       "      <td>...</td>\n",
       "      <td>...</td>\n",
       "    </tr>\n",
       "    <tr>\n",
       "      <th>2633</th>\n",
       "      <td>val/2633.png</td>\n",
       "      <td>0</td>\n",
       "    </tr>\n",
       "    <tr>\n",
       "      <th>2634</th>\n",
       "      <td>val/2634.png</td>\n",
       "      <td>0</td>\n",
       "    </tr>\n",
       "    <tr>\n",
       "      <th>2635</th>\n",
       "      <td>val/2635.png</td>\n",
       "      <td>0</td>\n",
       "    </tr>\n",
       "    <tr>\n",
       "      <th>2636</th>\n",
       "      <td>val/2636.png</td>\n",
       "      <td>0</td>\n",
       "    </tr>\n",
       "    <tr>\n",
       "      <th>2637</th>\n",
       "      <td>val/2637.png</td>\n",
       "      <td>0</td>\n",
       "    </tr>\n",
       "  </tbody>\n",
       "</table>\n",
       "<p>2638 rows × 2 columns</p>\n",
       "</div>"
      ],
      "text/plain": [
       "          img_path  label\n",
       "0        val/0.png      0\n",
       "1        val/1.png      0\n",
       "2        val/2.png      0\n",
       "3        val/3.png      0\n",
       "4        val/4.png      0\n",
       "...            ...    ...\n",
       "2633  val/2633.png      0\n",
       "2634  val/2634.png      0\n",
       "2635  val/2635.png      0\n",
       "2636  val/2636.png      0\n",
       "2637  val/2637.png      0\n",
       "\n",
       "[2638 rows x 2 columns]"
      ]
     },
     "execution_count": 44,
     "metadata": {},
     "output_type": "execute_result"
    }
   ],
   "source": [
    "val_contest"
   ]
  },
  {
   "cell_type": "code",
   "execution_count": 45,
   "id": "be94da7c",
   "metadata": {},
   "outputs": [],
   "source": [
    "val_contest.to_csv('val.csv', index=False)"
   ]
  },
  {
   "cell_type": "markdown",
   "id": "06b31e6d",
   "metadata": {},
   "source": [
    "# Make Submit"
   ]
  },
  {
   "cell_type": "code",
   "execution_count": 63,
   "id": "1f6d7bfd",
   "metadata": {},
   "outputs": [],
   "source": [
    "val_contest_outputs = pd.read_csv('/Users/azatv/PycharmProjects/YSDA-Labelling-Course-Project-Round-1/micronet-main/val_contest.csv')"
   ]
  },
  {
   "cell_type": "code",
   "execution_count": 64,
   "id": "30e16694",
   "metadata": {},
   "outputs": [],
   "source": [
    "val_contest['label'] = val_contest_outputs['0']"
   ]
  },
  {
   "cell_type": "code",
   "execution_count": 77,
   "id": "ebb5b3bc",
   "metadata": {},
   "outputs": [],
   "source": [
    "val_contest['label'] = val_contest['label'].apply(lambda predict: int(predict > 0)) "
   ]
  },
  {
   "cell_type": "code",
   "execution_count": 82,
   "id": "42f4d6d7",
   "metadata": {},
   "outputs": [],
   "source": [
    "val_contest['img_path'] = val_contest['img_path'].apply(lambda path: path.split('/')[-1])"
   ]
  },
  {
   "cell_type": "code",
   "execution_count": 83,
   "id": "5a11f768",
   "metadata": {},
   "outputs": [],
   "source": [
    "val_contest.to_csv('micronet_m3.csv', index=False)"
   ]
  },
  {
   "cell_type": "code",
   "execution_count": null,
   "id": "01399a00",
   "metadata": {},
   "outputs": [],
   "source": []
  }
 ],
 "metadata": {
  "kernelspec": {
   "display_name": "Python 3",
   "language": "python",
   "name": "python3"
  },
  "language_info": {
   "codemirror_mode": {
    "name": "ipython",
    "version": 3
   },
   "file_extension": ".py",
   "mimetype": "text/x-python",
   "name": "python",
   "nbconvert_exporter": "python",
   "pygments_lexer": "ipython3",
   "version": "3.8.8"
  }
 },
 "nbformat": 4,
 "nbformat_minor": 5
}
